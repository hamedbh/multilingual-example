{
 "cells": [
  {
   "cell_type": "code",
   "execution_count": null,
   "metadata": {},
   "outputs": [],
   "source": [
    "%load_ext autoreload\n",
    "%autoreload 2\n",
    "%load_ext dotenv\n",
    "%dotenv\n",
    "%cd .."
   ]
  },
  {
   "cell_type": "code",
   "execution_count": null,
   "metadata": {},
   "outputs": [],
   "source": [
    "from src import locations\n",
    "import duckdb\n",
    "from jinja2 import Template\n",
    "import os"
   ]
  },
  {
   "cell_type": "code",
   "execution_count": null,
   "metadata": {},
   "outputs": [],
   "source": [
    "create_view_sql = Template(\n",
    "    \"\"\"\n",
    "    CREATE VIEW all_taxi AS \n",
    "    SELECT * \n",
    "    FROM read_parquet('{{ raw_data_dir }}/nyc_taxi/**/*.parquet', hive_partitioning=true)\n",
    "    \"\"\"\n",
    ").render(raw_data_dir=locations.DATA_SUBDIR[\"raw\"])\n",
    "print(create_view_sql)"
   ]
  },
  {
   "cell_type": "code",
   "execution_count": null,
   "metadata": {},
   "outputs": [],
   "source": [
    "with duckdb.connect() as duck:\n",
    "    duck.execute(create_view_sql)\n",
    "    duck.sql(\"SELECT * FROM all_taxi LIMIT 10\").show()"
   ]
  },
  {
   "cell_type": "code",
   "execution_count": null,
   "metadata": {},
   "outputs": [],
   "source": [
    "with duckdb.connect() as duck:\n",
    "    duck.execute(create_view_sql)\n",
    "    weekly_summary = duck.sql(\n",
    "        \"\"\"\n",
    "        SELECT \n",
    "          week(tpep_pickup_datetime) AS week,\n",
    "          year,\n",
    "          count(*) as trips,\n",
    "          AVG(total_amount) AS avg_cost\n",
    "        FROM all_taxi\n",
    "        GROUP BY week(tpep_pickup_datetime), year\n",
    "        \"\"\"\n",
    "    ).pl()\n",
    "weekly_summary\n",
    "weekly_summary.write_csv(\n",
    "    os.path.join(locations.DATA_SUBDIR[\"processed\"], \"weekly_summary.csv\")\n",
    ")"
   ]
  },
  {
   "cell_type": "code",
   "execution_count": null,
   "metadata": {},
   "outputs": [],
   "source": []
  },
  {
   "cell_type": "code",
   "execution_count": null,
   "metadata": {},
   "outputs": [],
   "source": [
    "duck = duckdb.connect(database=\":memory:\", read_only=False)"
   ]
  },
  {
   "cell_type": "code",
   "execution_count": null,
   "metadata": {},
   "outputs": [],
   "source": [
    "duck.sql(\n",
    "    \"CREATE VIEW all_taxi AS SELECT * FROM read_parquet('data/raw/nyc_taxi/**/*.parquet', hive_partitioning = true)\"\n",
    ")"
   ]
  },
  {
   "cell_type": "code",
   "execution_count": null,
   "metadata": {},
   "outputs": [],
   "source": [
    "duck.sql(\n",
    "    \"SELECT month, COUNT(*) AS N FROM all_taxi WHERE year = 2020 GROUP BY month ORDER BY month\"\n",
    ").show()"
   ]
  },
  {
   "cell_type": "code",
   "execution_count": null,
   "metadata": {},
   "outputs": [],
   "source": [
    "# duckdb query to find the number of trips per month in 2020\n",
    "duck.sql(\n",
    "    \"SELECT month, COUNT(*) AS N FROM all_taxi WHERE year = 2020 GROUP BY month ORDER BY month\"\n",
    ").show()"
   ]
  },
  {
   "cell_type": "code",
   "execution_count": null,
   "metadata": {},
   "outputs": [],
   "source": [
    "# duckdb query to find the number of trips per month in 2020, return result as polars data frame\n",
    "duck.sql(\"SELECT * FROM all_taxi LIMIT 10\").pl()"
   ]
  },
  {
   "cell_type": "code",
   "execution_count": null,
   "metadata": {},
   "outputs": [],
   "source": [
    "duck.close()"
   ]
  },
  {
   "cell_type": "code",
   "execution_count": null,
   "metadata": {},
   "outputs": [],
   "source": [
    "with duckdb.connect() as duck:"
   ]
  }
 ],
 "metadata": {
  "kernelspec": {
   "display_name": ".venv",
   "language": "python",
   "name": "python3"
  },
  "language_info": {
   "codemirror_mode": {
    "name": "ipython",
    "version": 3
   },
   "file_extension": ".py",
   "mimetype": "text/x-python",
   "name": "python",
   "nbconvert_exporter": "python",
   "pygments_lexer": "ipython3",
   "version": "3.10.12"
  }
 },
 "nbformat": 4,
 "nbformat_minor": 2
}
